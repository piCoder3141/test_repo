{
 "cells": [
  {
   "cell_type": "code",
   "execution_count": 5,
   "id": "37450a4b",
   "metadata": {},
   "outputs": [],
   "source": [
    "import pandas as pd\n",
    "import numpy as np\n",
    "from sklearn.model_selection import train_test_split\n",
    "from sklearn.metrics import mean_squared_error\n",
    "import os\n",
    "\n",
    "import keras\n",
    "from keras.models import Sequential\n",
    "from keras.layers import Dense"
   ]
  },
  {
   "cell_type": "code",
   "execution_count": 6,
   "id": "acf38d63",
   "metadata": {},
   "outputs": [],
   "source": [
    "data_dir = 'Data'\n",
    "input_filename = 'concrete_data.csv'"
   ]
  },
  {
   "cell_type": "code",
   "execution_count": 7,
   "id": "1693e005",
   "metadata": {},
   "outputs": [],
   "source": [
    "concrete_data = pd.read_csv(os.path.join(data_dir, input_filename))"
   ]
  },
  {
   "cell_type": "code",
   "execution_count": 8,
   "id": "5bb10169",
   "metadata": {},
   "outputs": [
    {
     "name": "stdout",
     "output_type": "stream",
     "text": [
      "<class 'pandas.core.frame.DataFrame'>\n",
      "RangeIndex: 1030 entries, 0 to 1029\n",
      "Data columns (total 9 columns):\n",
      " #   Column              Non-Null Count  Dtype  \n",
      "---  ------              --------------  -----  \n",
      " 0   Cement              1030 non-null   float64\n",
      " 1   Blast Furnace Slag  1030 non-null   float64\n",
      " 2   Fly Ash             1030 non-null   float64\n",
      " 3   Water               1030 non-null   float64\n",
      " 4   Superplasticizer    1030 non-null   float64\n",
      " 5   Coarse Aggregate    1030 non-null   float64\n",
      " 6   Fine Aggregate      1030 non-null   float64\n",
      " 7   Age                 1030 non-null   int64  \n",
      " 8   Strength            1030 non-null   float64\n",
      "dtypes: float64(8), int64(1)\n",
      "memory usage: 72.5 KB\n"
     ]
    }
   ],
   "source": [
    "concrete_data.info()"
   ]
  },
  {
   "cell_type": "code",
   "execution_count": 13,
   "id": "4a9b253c",
   "metadata": {},
   "outputs": [],
   "source": [
    "def prepare_data(data, target_col, test_size=0.3):\n",
    "    y = data[target_col].values\n",
    "    X = data[data.columns.difference([target_col, ])].copy()\n",
    "    return train_test_split(X, y, test_size=test_size)\n",
    "\n",
    "def train_model(X, y, epochs=50, num_layers=1):\n",
    "    n_cols = X.shape[1]\n",
    "    \n",
    "    model = Sequential()\n",
    "    model.add(Dense(10, activation='relu', input_shape=(n_cols, ), ))\n",
    "    for layer in range(1, num_layers):\n",
    "        model.add(Dense(10, activation='relu'))\n",
    "    model.add(Dense(1))\n",
    "    \n",
    "    model.compile(optimizer='adam', loss='mean_squared_error')\n",
    "    \n",
    "    model.fit(X, y, epochs=epochs, validation_split=0.3, verbose=0)\n",
    "    \n",
    "    return model\n",
    "    \n",
    "def evaluate(data, iterations=50, epochs=50, num_layers=1):\n",
    "    mse_list = []\n",
    "    for _itr in range(iterations):     \n",
    "        X_train, X_test, y_train, y_test = prepare_data(data, 'Strength')\n",
    "        model = train_model(X_train, y_train, epochs, num_layers)\n",
    "        y_pred = model.predict(X_test, verbose=0)\n",
    "        mse = mean_squared_error(y_test, y_pred)\n",
    "        mse_list.append(mse)\n",
    "        print(f\"Iteration {_itr}: {mse}\")\n",
    "    return np.mean(mse_list), np.std(mse_list)"
   ]
  },
  {
   "cell_type": "code",
   "execution_count": 14,
   "id": "738436da",
   "metadata": {},
   "outputs": [
    {
     "name": "stdout",
     "output_type": "stream",
     "text": [
      "Iteration 0: 280.79297161919715\n",
      "Iteration 1: 171.00784604484525\n",
      "Iteration 2: 1021.8426159557142\n",
      "Iteration 3: 198.66335717424408\n",
      "Iteration 4: 1353.98138567672\n",
      "Iteration 5: 764.1236098037368\n",
      "Iteration 6: 208.03551670765415\n",
      "Iteration 7: 724.9768912054285\n",
      "Iteration 8: 320.3248300630025\n",
      "Iteration 9: 1103.1582573297808\n",
      "Iteration 10: 237.71947031375205\n",
      "Iteration 11: 962.6365042393579\n",
      "Iteration 12: 117.72941476384054\n",
      "Iteration 13: 162.55993986258818\n",
      "Iteration 14: 255.41230426103718\n",
      "Iteration 15: 1346.1045695840446\n",
      "Iteration 16: 134.26770707391708\n",
      "Iteration 17: 1023.3455850019726\n",
      "Iteration 18: 118.20772855455293\n",
      "Iteration 19: 1615.5210349456015\n",
      "Iteration 20: 3640.4527395153123\n",
      "Iteration 21: 109.80436959685896\n",
      "Iteration 22: 105.71011828849903\n",
      "Iteration 23: 135.8646502053765\n",
      "Iteration 24: 134.03689064486943\n",
      "Iteration 25: 137.26339240628232\n",
      "Iteration 26: 759.2579108717401\n",
      "Iteration 27: 229.17775893177722\n",
      "Iteration 28: 1331.0134879653085\n",
      "Iteration 29: 505.6737244104162\n",
      "Iteration 30: 126.84498496197719\n",
      "Iteration 31: 841.7803362083262\n",
      "Iteration 32: 143.2295038553649\n",
      "Iteration 33: 193.00927873591976\n",
      "Iteration 34: 317.06931913474\n",
      "Iteration 35: 1571.3243461313932\n",
      "Iteration 36: 2779.1199497971\n",
      "Iteration 37: 207.7345612058173\n",
      "Iteration 38: 193.62272179579824\n",
      "Iteration 39: 134.74076224839567\n",
      "Iteration 40: 888.8815611147484\n",
      "Iteration 41: 780.4573038446877\n",
      "Iteration 42: 587.539197170613\n",
      "Iteration 43: 153.85831300899042\n",
      "Iteration 44: 110.61229059755712\n",
      "Iteration 45: 144.7851861836116\n",
      "Iteration 46: 6933.676757925812\n",
      "Iteration 47: 135.9445241320138\n",
      "Iteration 48: 240.97417969723026\n",
      "Iteration 49: 694.4129966354195\n"
     ]
    },
    {
     "data": {
      "text/plain": [
       "(727.765693148059, 1124.3040020031433)"
      ]
     },
     "execution_count": 14,
     "metadata": {},
     "output_type": "execute_result"
    }
   ],
   "source": [
    "evaluate(concrete_data, epochs=50)"
   ]
  }
 ],
 "metadata": {
  "kernelspec": {
   "display_name": "coursera",
   "language": "python",
   "name": "coursera"
  },
  "language_info": {
   "codemirror_mode": {
    "name": "ipython",
    "version": 3
   },
   "file_extension": ".py",
   "mimetype": "text/x-python",
   "name": "python",
   "nbconvert_exporter": "python",
   "pygments_lexer": "ipython3",
   "version": "3.10.9"
  }
 },
 "nbformat": 4,
 "nbformat_minor": 5
}
